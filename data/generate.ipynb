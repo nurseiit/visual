{
 "cells": [
  {
   "cell_type": "code",
   "execution_count": 1,
   "metadata": {},
   "outputs": [],
   "source": [
    "import pandas as pd"
   ]
  },
  {
   "cell_type": "code",
   "execution_count": 2,
   "metadata": {},
   "outputs": [
    {
     "name": "stdout",
     "output_type": "stream",
     "text": [
      "Requirement already satisfied: xlrd in /usr/local/lib/python3.7/site-packages (1.2.0)\r\n"
     ]
    }
   ],
   "source": [
    "# Install a pip package in the current Jupyter kernel\n",
    "import sys\n",
    "!{sys.executable} -m pip install xlrd"
   ]
  },
  {
   "cell_type": "code",
   "execution_count": 4,
   "metadata": {},
   "outputs": [],
   "source": [
    "file_name = 'transaction_new.xlsx'\n",
    "df = pd.read_excel(file_name)"
   ]
  },
  {
   "cell_type": "code",
   "execution_count": 5,
   "metadata": {},
   "outputs": [],
   "source": [
    "receives = df['receive_user_email']\n",
    "sends = df['send_user_email']\n",
    "amounts = df['ggul']"
   ]
  },
  {
   "cell_type": "code",
   "execution_count": 6,
   "metadata": {},
   "outputs": [],
   "source": [
    "pairs = {}\n",
    "\n",
    "size = len(amounts)\n",
    "\n",
    "for i in range(size):\n",
    "    receive = receives[i]\n",
    "    send = sends[i]\n",
    "    amount = amounts[i]\n",
    "    \n",
    "    current = (send, receive)\n",
    "    if not current in pairs:\n",
    "        pairs[current] = 0\n",
    "    pairs[current] += amount"
   ]
  },
  {
   "cell_type": "code",
   "execution_count": 7,
   "metadata": {},
   "outputs": [],
   "source": [
    "with open('kek.txt', 'w') as f:\n",
    "    for pair in pairs:\n",
    "        if pairs[pair] == 0.0:\n",
    "            continue\n",
    "        f.write('%s %s %f\\n' % (str(pair[0]).lower(), str(pair[1]).lower(), pairs[pair]))"
   ]
  },
  {
   "cell_type": "code",
   "execution_count": 8,
   "metadata": {},
   "outputs": [],
   "source": [
    "result = {\n",
    "  \"renderer\": \"region\",\n",
    "  \"name\": \"transactions\",\n",
    "  \"displayName\": \"Transactions\",\n",
    "  \"nodes\": [],\n",
    "  \"connections\": [],\n",
    "  \"class\": \"normal\"\n",
    "}\n",
    "\n",
    "all_nodes = []\n",
    "\n",
    "for pair in pairs:\n",
    "    if pairs[pair] == 0.0:\n",
    "        continue\n",
    "\n",
    "    source = str(pair[0]).lower()\n",
    "    target = str(pair[1]).lower()\n",
    "    \n",
    "    if source == target or source == 'nan' or target == 'nan':\n",
    "        continue\n",
    "    \n",
    "    all_nodes.append(source)\n",
    "    all_nodes.append(target)\n",
    "    \n",
    "    amount = pairs[pair]\n",
    "\n",
    "    current = {\n",
    "      \"source\": source,\n",
    "      \"target\": target,\n",
    "      \"metrics\": {\n",
    "        \"normal\": amount,\n",
    "        \"danger\": 0\n",
    "      }\n",
    "    }\n",
    "    \n",
    "    result['connections'].append(current)\n",
    "    \n",
    "nodes = set(all_nodes)\n",
    "\n",
    "for node in nodes:\n",
    "    current_node = {\n",
    "      \"name\": node\n",
    "    }\n",
    "    result['nodes'].append(current_node)"
   ]
  },
  {
   "cell_type": "code",
   "execution_count": 9,
   "metadata": {},
   "outputs": [],
   "source": [
    "import json\n",
    "\n",
    "with open('final_data.json', 'w') as f:\n",
    "    f.write(json.dumps(result, sort_keys=True, indent=2))"
   ]
  }
 ],
 "metadata": {
  "kernelspec": {
   "display_name": "Python 3",
   "language": "python",
   "name": "python3"
  },
  "language_info": {
   "codemirror_mode": {
    "name": "ipython",
    "version": 3
   },
   "file_extension": ".py",
   "mimetype": "text/x-python",
   "name": "python",
   "nbconvert_exporter": "python",
   "pygments_lexer": "ipython3",
   "version": "3.7.4"
  }
 },
 "nbformat": 4,
 "nbformat_minor": 2
}
